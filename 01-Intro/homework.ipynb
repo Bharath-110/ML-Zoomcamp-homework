{
 "cells": [
  {
   "cell_type": "code",
   "execution_count": 40,
   "id": "2a3fc8c6-cfcb-49d4-93bd-3b3ec9981187",
   "metadata": {},
   "outputs": [],
   "source": [
    "import pandas as pd\n",
    "import numpy as np\n"
   ]
  },
  {
   "cell_type": "code",
   "execution_count": null,
   "id": "eda61f21-0112-4e15-8281-01b0069b4202",
   "metadata": {},
   "outputs": [
    {
     "data": {
      "text/plain": [
       "'2.3.2'"
      ]
     },
     "execution_count": 2,
     "metadata": {},
     "output_type": "execute_result"
    }
   ],
   "source": [
    "#Question 1\n",
    "pd.__version__"
   ]
  },
  {
   "cell_type": "code",
   "execution_count": 18,
   "id": "e9302a72",
   "metadata": {},
   "outputs": [
    {
     "name": "stdout",
     "output_type": "stream",
     "text": [
      "   engine_displacement  num_cylinders  horsepower  vehicle_weight  \\\n",
      "0                  170            3.0       159.0     3413.433759   \n",
      "1                  130            5.0        97.0     3149.664934   \n",
      "2                  170            NaN        78.0     3079.038997   \n",
      "3                  220            4.0         NaN     2542.392402   \n",
      "4                  210            1.0       140.0     3460.870990   \n",
      "\n",
      "   acceleration  model_year  origin fuel_type         drivetrain  num_doors  \\\n",
      "0          17.7        2003  Europe  Gasoline    All-wheel drive        0.0   \n",
      "1          17.8        2007     USA  Gasoline  Front-wheel drive        0.0   \n",
      "2          15.1        2018  Europe  Gasoline  Front-wheel drive        0.0   \n",
      "3          20.2        2009     USA    Diesel    All-wheel drive        2.0   \n",
      "4          14.4        2009  Europe  Gasoline    All-wheel drive        2.0   \n",
      "\n",
      "   fuel_efficiency_mpg  \n",
      "0            13.231729  \n",
      "1            13.688217  \n",
      "2            14.246341  \n",
      "3            16.912736  \n",
      "4            12.488369  \n"
     ]
    }
   ],
   "source": [
    "#Question 2\n",
    "df = pd.read_csv(\"https://raw.githubusercontent.com/alexeygrigorev/datasets/master/car_fuel_efficiency.csv\")\n",
    "print(df.head())"
   ]
  },
  {
   "cell_type": "code",
   "execution_count": null,
   "id": "d5ace64b",
   "metadata": {},
   "outputs": [
    {
     "name": "stdout",
     "output_type": "stream",
     "text": [
      "9704\n"
     ]
    }
   ],
   "source": [
    "#Question 2\n",
    "number_of_records = len(df)\n",
    "print(number_of_records)"
   ]
  },
  {
   "cell_type": "code",
   "execution_count": null,
   "id": "d3cc2495",
   "metadata": {},
   "outputs": [
    {
     "name": "stdout",
     "output_type": "stream",
     "text": [
      "['Gasoline' 'Diesel']\n"
     ]
    }
   ],
   "source": [
    "#Question 3\n",
    "fuel_types=df[\"fuel_type\"].unique()\n",
    "\n",
    "print(fuel_types)"
   ]
  },
  {
   "cell_type": "code",
   "execution_count": null,
   "id": "59562a05",
   "metadata": {},
   "outputs": [
    {
     "data": {
      "text/plain": [
       "engine_displacement      0\n",
       "num_cylinders          482\n",
       "horsepower             708\n",
       "vehicle_weight           0\n",
       "acceleration           930\n",
       "model_year               0\n",
       "origin                   0\n",
       "fuel_type                0\n",
       "drivetrain               0\n",
       "num_doors              502\n",
       "fuel_efficiency_mpg      0\n",
       "dtype: int64"
      ]
     },
     "execution_count": 22,
     "metadata": {},
     "output_type": "execute_result"
    }
   ],
   "source": [
    "#Question 4\n",
    "df.isnull().sum()"
   ]
  },
  {
   "cell_type": "code",
   "execution_count": 13,
   "id": "9a01ee68",
   "metadata": {},
   "outputs": [
    {
     "name": "stdout",
     "output_type": "stream",
     "text": [
      "23.759122836520497\n"
     ]
    }
   ],
   "source": [
    "#Question 5\n",
    "max_fuel_efficiency = df.groupby('origin')['fuel_efficiency_mpg'].max().loc['Asia']\n",
    "print(max_fuel_efficiency)"
   ]
  },
  {
   "cell_type": "code",
   "execution_count": null,
   "id": "7f040281",
   "metadata": {},
   "outputs": [
    {
     "name": "stdout",
     "output_type": "stream",
     "text": [
      "149.0\n"
     ]
    }
   ],
   "source": [
    "#Question 6\n",
    "horse_power_median = df['horsepower'].median()\n",
    "\n",
    "print(horse_power_median)"
   ]
  },
  {
   "cell_type": "code",
   "execution_count": 27,
   "id": "3926f114",
   "metadata": {},
   "outputs": [
    {
     "name": "stdout",
     "output_type": "stream",
     "text": [
      "152.0\n"
     ]
    }
   ],
   "source": [
    "horse_power_most_frequent = df[\"horsepower\"].mode()[0]\n",
    "\n",
    "print(horse_power_most_frequent)"
   ]
  },
  {
   "cell_type": "code",
   "execution_count": 28,
   "id": "c7758f40",
   "metadata": {},
   "outputs": [
    {
     "name": "stdout",
     "output_type": "stream",
     "text": [
      "0\n"
     ]
    }
   ],
   "source": [
    "df['horsepower'] = pd.to_numeric(df['horsepower'])\n",
    "df['horsepower'] = df['horsepower'].fillna(horse_power_most_frequent)\n",
    "\n",
    "num_of_missing_values = df['horsepower'].isnull().sum()\n",
    "\n",
    "print(num_of_missing_values)"
   ]
  },
  {
   "cell_type": "code",
   "execution_count": 29,
   "id": "b5bb1888",
   "metadata": {},
   "outputs": [
    {
     "name": "stdout",
     "output_type": "stream",
     "text": [
      "152.0\n"
     ]
    }
   ],
   "source": [
    "horse_power_median_after_fillna = df['horsepower'].median()\n",
    "print(horse_power_median_after_fillna)\n"
   ]
  },
  {
   "cell_type": "code",
   "execution_count": 51,
   "id": "2f488c3a",
   "metadata": {},
   "outputs": [
    {
     "name": "stdout",
     "output_type": "stream",
     "text": [
      "0.5187709081074016\n"
     ]
    }
   ],
   "source": [
    "#Question 7\n",
    "\n",
    "x = df[df['origin']=='Asia'][['vehicle_weight','model_year']].head(7).to_numpy()\n",
    "\n",
    "x_transpose = x.transpose()\n",
    "\n",
    "XTX = x_transpose.dot(x)\n",
    "\n",
    "\n",
    "XTX_inverse = np.linalg.inv(XTX)\n",
    "\n",
    "\n",
    "y = np.array([1100, 1300, 800, 900, 1000, 1100, 1200])\n",
    "\n",
    "w = XTX_inverse.dot(x_transpose).dot(y).sum()\n",
    "print (w)\n"
   ]
  }
 ],
 "metadata": {
  "kernelspec": {
   "display_name": "ML-Zoomcamp-homework",
   "language": "python",
   "name": "python3"
  },
  "language_info": {
   "codemirror_mode": {
    "name": "ipython",
    "version": 3
   },
   "file_extension": ".py",
   "mimetype": "text/x-python",
   "name": "python",
   "nbconvert_exporter": "python",
   "pygments_lexer": "ipython3",
   "version": "3.12.1"
  }
 },
 "nbformat": 4,
 "nbformat_minor": 5
}
