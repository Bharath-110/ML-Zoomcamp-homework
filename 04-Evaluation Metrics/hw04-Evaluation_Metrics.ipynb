{
 "cells": [
  {
   "cell_type": "code",
   "execution_count": 1,
   "id": "41a8761d",
   "metadata": {},
   "outputs": [
    {
     "name": "stdout",
     "output_type": "stream",
     "text": [
      "Data sizes: train=876, val=293, test=293\n"
     ]
    }
   ],
   "source": [
    "import pandas as pd\n",
    "import numpy as np\n",
    "from sklearn.model_selection import train_test_split, KFold\n",
    "from sklearn.metrics import roc_auc_score, precision_score, recall_score, f1_score, roc_curve, auc\n",
    "from sklearn.feature_extraction import DictVectorizer\n",
    "from sklearn.linear_model import LogisticRegression\n",
    "import matplotlib.pyplot as plt\n",
    "\n",
    "# Load data\n",
    "df = pd.read_csv(\"course_lead_scoring.csv\")\n",
    "\n",
    "# ------------- Data preparation -------------\n",
    "df = df.copy()\n",
    "for col in df.columns:\n",
    "    if df[col].dtype == 'object':\n",
    "        df[col] = df[col].fillna('NA')\n",
    "    else:\n",
    "        df[col] = df[col].fillna(0.0)\n",
    "\n",
    "# split into 60/20/20\n",
    "df_full_train, df_test = train_test_split(df, test_size=0.2, random_state=1)\n",
    "df_train, df_val = train_test_split(df_full_train, test_size=0.25, random_state=1)  # 0.25 * 0.8 = 0.2\n",
    "\n",
    "df_train = df_train.reset_index(drop=True)\n",
    "df_val = df_val.reset_index(drop=True)\n",
    "df_test = df_test.reset_index(drop=True)\n",
    "\n",
    "y_train = df_train['converted'].values\n",
    "y_val = df_val['converted'].values\n",
    "y_test = df_test['converted'].values\n",
    "\n",
    "print(\"Data sizes: train=%d, val=%d, test=%d\" % (len(df_train), len(df_val), len(df_test)))"
   ]
  },
  {
   "cell_type": "code",
   "execution_count": 3,
   "id": "36bafc77",
   "metadata": {},
   "outputs": [
    {
     "name": "stdout",
     "output_type": "stream",
     "text": [
      "lead_score: 0.614499\n",
      "number_of_courses_viewed: 0.763568\n",
      "interaction_count: 0.738270\n",
      "annual_income: 0.551958\n",
      "Best numerical variable (highest AUC): number_of_courses_viewed\n"
     ]
    }
   ],
   "source": [
    "# ------------- Q1: ROC AUC for numerical features -------------\n",
    "\n",
    "num_vars = ['lead_score', 'number_of_courses_viewed', 'interaction_count', 'annual_income']\n",
    "auc_scores = {}\n",
    "for col in num_vars:\n",
    "    score = df_train[col].values\n",
    "    auc_val = roc_auc_score(y_train, score)\n",
    "    if auc_val < 0.5:\n",
    "        auc_val = roc_auc_score(y_train, -score)\n",
    "    auc_scores[col] = auc_val\n",
    "\n",
    "for k,v in auc_scores.items():\n",
    "    print(f\"{k}: {v:.6f}\")\n",
    "best_num = max(auc_scores, key=auc_scores.get)\n",
    "print(\"Best numerical variable (highest AUC):\", best_num)"
   ]
  },
  {
   "cell_type": "code",
   "execution_count": 5,
   "id": "b4d19318",
   "metadata": {},
   "outputs": [
    {
     "name": "stdout",
     "output_type": "stream",
     "text": [
      "Validation AUC: 0.817132\n"
     ]
    }
   ],
   "source": [
    "# Q2: Train logistic regression with DictVectorizer and compute validation AUC\n",
    "# Prepare data: use all features except target\n",
    "features = [c for c in df.columns if c != 'converted']\n",
    "\n",
    "dv = DictVectorizer(sparse=False)\n",
    "train_dicts = df_train[features].to_dict(orient='records')\n",
    "X_train = dv.fit_transform(train_dicts)\n",
    "\n",
    "val_dicts = df_val[features].to_dict(orient='records')\n",
    "X_val = dv.transform(val_dicts)\n",
    "\n",
    "model = LogisticRegression(solver='liblinear', C=1.0, max_iter=1000)\n",
    "model.fit(X_train, y_train)\n",
    "y_val_pred = model.predict_proba(X_val)[:,1]\n",
    "val_auc = roc_auc_score(y_val, y_val_pred)\n",
    "print(f\"Validation AUC: {val_auc:.6f}\")"
   ]
  },
  {
   "cell_type": "code",
   "execution_count": 7,
   "id": "67a96ee6",
   "metadata": {},
   "outputs": [
    {
     "name": "stdout",
     "output_type": "stream",
     "text": [
      "Threshold where precision and recall intersect (closest): 0.980\n"
     ]
    }
   ],
   "source": [
    "# ------------- Q3: Precision and Recall across thresholds -------------\n",
    "thresholds = np.arange(0.0, 1.001, 0.01)\n",
    "precisions = []\n",
    "recalls = []\n",
    "\n",
    "for t in thresholds:\n",
    "    preds = (y_val_pred >= t).astype(int)\n",
    "    # handle cases where precision/recall undefined -> use 0.0\n",
    "    if preds.sum() == 0:\n",
    "        precisions.append(0.0)\n",
    "    else:\n",
    "        precisions.append(precision_score(y_val, preds))\n",
    "    recalls.append(recall_score(y_val, preds))\n",
    "\n",
    "# find threshold where precision and recall intersect (closest point)\n",
    "diffs = np.abs(np.array(precisions) - np.array(recalls))\n",
    "min_idx = diffs.argmin()\n",
    "threshold_intersect = thresholds[min_idx]\n",
    "print(f\"Threshold where precision and recall intersect (closest): {threshold_intersect:.3f}\")"
   ]
  },
  {
   "cell_type": "code",
   "execution_count": 9,
   "id": "9ef5504b",
   "metadata": {},
   "outputs": [
    {
     "name": "stdout",
     "output_type": "stream",
     "text": [
      "Threshold with maximal F1: 0.570, F1=0.812500\n"
     ]
    }
   ],
   "source": [
    "# ------------- Q4: F1 score across thresholds -------------\n",
    "f1s = []\n",
    "for p,r in zip(precisions, recalls):\n",
    "    if p + r == 0:\n",
    "        f1s.append(0.0)\n",
    "    else:\n",
    "        f1s.append(2 * p * r / (p + r))\n",
    "\n",
    "f1s = np.array(f1s)\n",
    "best_idx = f1s.argmax()\n",
    "best_threshold_f1 = thresholds[best_idx]\n",
    "best_f1 = f1s[best_idx]\n",
    "print(f\"Threshold with maximal F1: {best_threshold_f1:.3f}, F1={best_f1:.6f}\")"
   ]
  },
  {
   "cell_type": "code",
   "execution_count": 10,
   "id": "c91daa19",
   "metadata": {},
   "outputs": [
    {
     "data": {
      "image/png": "[encoded data removed]",
      "text/plain": [
       "<Figure size 800x500 with 1 Axes>"
      ]
     },
     "metadata": {},
     "output_type": "display_data"
    }
   ],
   "source": [
    "# Plot F1\n",
    "plt.figure(figsize=(8,5))\n",
    "plt.plot(thresholds, f1s, label='F1')\n",
    "plt.xlabel('threshold')\n",
    "plt.ylabel('F1 score')\n",
    "plt.title('F1 vs Threshold')\n",
    "plt.grid(True)\n",
    "plt.show()"
   ]
  },
  {
   "cell_type": "code",
   "execution_count": 11,
   "id": "7069d126",
   "metadata": {},
   "outputs": [
    {
     "name": "stdout",
     "output_type": "stream",
     "text": [
      "CV AUC scores: [0.80607459 0.87137384 0.77543201 0.80183686 0.85582727]\n",
      "mean = 0.822109, std = 0.035807\n"
     ]
    }
   ],
   "source": [
    "# ------------- Q5: 5-Fold CV on df_full_train -------------\n",
    "kf = KFold(n_splits=5, shuffle=True, random_state=1)\n",
    "scores = []\n",
    "\n",
    "X_full = dv.transform(df_full_train[features].to_dict(orient='records'))\n",
    "y_full = df_full_train['converted'].values\n",
    "\n",
    "for train_idx, val_idx in kf.split(X_full):\n",
    "    X_tr, X_va = X_full[train_idx], X_full[val_idx]\n",
    "    y_tr, y_va = y_full[train_idx], y_full[val_idx]\n",
    "    m = LogisticRegression(solver='liblinear', C=1.0, max_iter=1000)\n",
    "    m.fit(X_tr, y_tr)\n",
    "    y_va_pred = m.predict_proba(X_va)[:,1]\n",
    "    score = roc_auc_score(y_va, y_va_pred)\n",
    "    scores.append(score)\n",
    "\n",
    "scores = np.array(scores)\n",
    "print(f\"CV AUC scores: {scores}\")\n",
    "print(f\"mean = {scores.mean():.6f}, std = {scores.std():.6f}\")"
   ]
  },
  {
   "cell_type": "code",
   "execution_count": 13,
   "id": "81ce1127",
   "metadata": {},
   "outputs": [
    {
     "name": "stdout",
     "output_type": "stream",
     "text": [
      "CV results for different C values (mean, std):\n",
      "C=1e-06: mean=0.560208, std=0.023798\n",
      "C=0.001: mean=0.866878, std=0.028746\n",
      "C=1: mean=0.822109, std=0.035807\n",
      "\n",
      "Rounded (3 decimals): {1e-06: (np.float64(0.56), np.float64(0.024)), 0.001: (np.float64(0.867), np.float64(0.029)), 1: (np.float64(0.822), np.float64(0.036))}\n",
      "\n",
      "Best C selected: 0.001\n"
     ]
    }
   ],
   "source": [
    "# ------------- Q6: Hyperparameter tuning over C values -------------\n",
    "C_values = [0.000001, 0.001, 1]\n",
    "results = {}\n",
    "\n",
    "for C in C_values:\n",
    "    cv_scores = []\n",
    "    for train_idx, val_idx in kf.split(X_full):\n",
    "        X_tr, X_va = X_full[train_idx], X_full[val_idx]\n",
    "        y_tr, y_va = y_full[train_idx], y_full[val_idx]\n",
    "        m = LogisticRegression(solver='liblinear', C=C, max_iter=1000)\n",
    "        m.fit(X_tr, y_tr)\n",
    "        y_va_pred = m.predict_proba(X_va)[:,1]\n",
    "        cv_scores.append(roc_auc_score(y_va, y_va_pred))\n",
    "    cv_scores = np.array(cv_scores)\n",
    "    results[C] = (cv_scores.mean(), cv_scores.std())\n",
    "\n",
    "print(\"CV results for different C values (mean, std):\")\n",
    "for C, (mean_s, std_s) in results.items():\n",
    "    print(f\"C={C}: mean={mean_s:.6f}, std={std_s:.6f}\")\n",
    "\n",
    "# Round mean and std to 3 decimals as requested for selection\n",
    "results_rounded = {C: (round(v[0],3), round(v[1],3)) for C,v in results.items()}\n",
    "print(\"\\nRounded (3 decimals):\", results_rounded)\n",
    "\n",
    "# Choose best C: highest mean; tie-breaker -> lowest std; then smallest C\n",
    "best_mean = max([v[0] for v in results.values()])\n",
    "candidates = [C for C,(m,s) in results.items() if np.isclose(m, best_mean)]\n",
    "if len(candidates) > 1:\n",
    "    # choose lowest std among candidates\n",
    "    stds = {C: results[C][1] for C in candidates}\n",
    "    best_C = min(stds, key=stds.get)\n",
    "else:\n",
    "    best_C = candidates[0]\n",
    "\n",
    "print(\"\\nBest C selected:\", best_C)\n",
    "\n",
    "# Final answers dictionary\n",
    "answers = {\n",
    "    \"Q1_best_variable\": best_num,\n",
    "    \"Q2_val_auc\": val_auc,\n",
    "    \"Q3_threshold_intersect\": threshold_intersect,\n",
    "    \"Q4_best_threshold_f1\": best_threshold_f1,\n",
    "    \"Q5_cv_std\": scores.std(),\n",
    "    \"Q6_best_C\": best_C,\n",
    "    \"Q6_results_rounded\": results_rounded\n",
    "}"
   ]
  }
 ],
 "metadata": {
  "kernelspec": {
   "display_name": "ML-Zoomcamp-homework",
   "language": "python",
   "name": "python3"
  },
  "language_info": {
   "codemirror_mode": {
    "name": "ipython",
    "version": 3
   },
   "file_extension": ".py",
   "mimetype": "text/x-python",
   "name": "python",
   "nbconvert_exporter": "python",
   "pygments_lexer": "ipython3",
   "version": "3.12.1"
  }
 },
 "nbformat": 4,
 "nbformat_minor": 5
}
